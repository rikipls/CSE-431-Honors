{
 "cells": [
  {
   "cell_type": "markdown",
   "metadata": {},
   "source": [
    "# Comparing sets in the Rust Standard Library\n",
    "### David Rackerby"
   ]
  },
  {
   "cell_type": "markdown",
   "metadata": {},
   "source": [
    "### Hypothesis\n",
    "Most major programming language's claim that their official implementations of a data structur are \"better than anything you could write yourself.\" Rust's standard containers (`std::collections`) come closer to that ideal than most languages due to their modern implementations of classical data structures. For example, in Rust 1.73, the HashSet uses SIMD for lookups and B-Trees to implement ordered sets. The HashSet–with a time of $O(1)$ amortized for all standard operations–is expected to outperform the BTreeSet, which runs in $O(lg(n))$ time for the same operations. However, it's not officially documented for which input sizes does BTreeSet perform better than the HashMap. Due to implementation reasons, it's expected that for small input sizes the BTreeSet will be faster due to the smaller overhead of comparisons versus hashing. We hypothesize that the range of values for which the B-Tree performs better is between 0 and 10,000 elements.\n",
    "\n",
    "### Methods\n",
    "The same data inserted into both sets is pseudo-randomly generated. Insertion times will be measured until the total insertion time for either of the sets surpasses 3 seconds. The version of Rust used is Rust 1.73. The version of Python used is 3.11.2 The version of Matplotlib used is 3.7.1. The pseudo-random number generator used is the ChaCha random number generator. The notebook used to produce this report can be found at https://github.com/rikipls/CSE-431-Honors"
   ]
  },
  {
   "cell_type": "markdown",
   "metadata": {},
   "source": [
    "```rust\n",
    "use rand::{Rng, SeedableRng};\n",
    "use rand_chacha::ChaCha8Rng;\n",
    "\n",
    "use std::collections::{HashSet, BTreeSet};\n",
    "use std::error::Error;\n",
    "use std::time::Instant;\n",
    "use std::fs::File;\n",
    "use std::io::Write;\n",
    "\n",
    "const OUT_DIR: &str = \"out\";\n",
    "const SEED: u64 = 431;\n",
    "const NUM_ELEMENTS: usize = 10_000_000;\n",
    "\n",
    "fn main() -> Result<(), Box<dyn Error>> {\n",
    "    let mut rng = ChaCha8Rng::seed_from_u64(SEED);\n",
    "\n",
    "    // Generate the random data\n",
    "    let data: Vec<usize> = (0..NUM_ELEMENTS).map(|_| rng.gen_range(0..usize::MAX)).collect();\n",
    "\n",
    "    // Copies\n",
    "    let mut hashmap_time: Vec<u128> = vec![0; NUM_ELEMENTS];\n",
    "    let mut btreemap_time: Vec<u128>  = vec![0; NUM_ELEMENTS];\n",
    "    let mut total_hashmap_time = 0.0;\n",
    "    let mut total_btreemap_time = 0.0;\n",
    "\n",
    "    let mut hash_map= HashSet::<usize>::new();\n",
    "    let mut btree_map = BTreeSet::<usize>::new();\n",
    "\n",
    "    let mut num_elements_processed = NUM_ELEMENTS;\n",
    "\n",
    "    for i in 0..NUM_ELEMENTS {\n",
    "        let val = data[i];\n",
    "\n",
    "        // HashMap\n",
    "        let now_hashmap = Instant::now();\n",
    "        hash_map.insert(val);\n",
    "        let hash_elapsed = now_hashmap.elapsed();\n",
    "        hashmap_time[i] = hash_elapsed.as_nanos();\n",
    "        total_hashmap_time += hash_elapsed.as_secs_f64();\n",
    "\n",
    "        // BTreemap\n",
    "        let now_btreemap = Instant::now();\n",
    "        btree_map.insert(val);\n",
    "        let btree_elapsed = now_btreemap.elapsed();\n",
    "        btreemap_time[i] = btree_elapsed.as_nanos();\n",
    "        total_btreemap_time += btree_elapsed.as_secs_f64();\n",
    "\n",
    "        // Stop after total elapsed time exceeds 3 seconds\n",
    "        if total_btreemap_time >= 3.0 || total_hashmap_time >= 3.0 {\n",
    "            num_elements_processed = i;\n",
    "            break;\n",
    "        }\n",
    "    }\n",
    "\n",
    "    let nonzero_hashmap_times_in_ns= &hashmap_time[..num_elements_processed];\n",
    "    let nonzero_btreemap_times_in_ns= &btreemap_time[..num_elements_processed];\n",
    "\n",
    "    let hash_times_str: Vec<String> = nonzero_hashmap_times_in_ns.iter().map(|n| format!(\"{n}\")).collect();\n",
    "    let tree_times_str: Vec<String> = nonzero_btreemap_times_in_ns.iter().map(|n| format!(\"{n}\")).collect();\n",
    "\n",
    "    let mut f_hash = File::create(format!(\"{OUT_DIR}/hash.txt\"))?;\n",
    "    let mut f_tree = File::create(format!(\"{OUT_DIR}/tree.txt\"))?;\n",
    "\n",
    "    writeln!(f_hash, \"{}\", hash_times_str.join(\"\\n\"))?;\n",
    "    writeln!(f_tree, \"{}\", tree_times_str.join(\"\\n\"))?;\n",
    "\n",
    "    Ok(())\n",
    "}\n",
    "```"
   ]
  },
  {
   "cell_type": "markdown",
   "metadata": {
    "collapsed": false
   },
   "source": [
    "### Results\n",
    "In a given run, the insertion time of the sorted dictionary was typically one order of magnitude higher than that of the unsorted dictionary. As shown above, the sorted dictionary spent much more time overall on insertions than the unsorted dictionary.\n",
    "\n",
    "### Discussion\n",
    "As expected, the sorted dictionary took more time than the unsorted dictionary to insert the same elements due to having to maintain the order of keys in its backend. However, what's surprising is that total of 1.4 million elements were inserted before the total insertion time took 3 seconds. One order of magnitude difference is a smaller gap than expected for that many elements, and the SortedDict still performed very well given its asymptotic restriction.\n",
    "\n",
    "### Conclusions\n",
    "The unsorted dictionary spent less time on insertions overall. It took 3 seconds to insert roughly 1.4 million elements into the sorted dictionary while it took 0.36 seconds to insert the same number of elements into the unsorted dictionary."
   ]
  }
 ],
 "metadata": {
  "kernelspec": {
   "display_name": "Python 3 (ipykernel)",
   "language": "python",
   "name": "python3"
  },
  "language_info": {
   "codemirror_mode": {
    "name": "ipython",
    "version": 3
   },
   "file_extension": ".py",
   "mimetype": "text/x-python",
   "name": "python",
   "nbconvert_exporter": "python",
   "pygments_lexer": "ipython3",
   "version": "3.11.2"
  }
 },
 "nbformat": 4,
 "nbformat_minor": 2
}
